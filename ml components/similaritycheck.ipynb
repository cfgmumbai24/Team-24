{
  "nbformat": 4,
  "nbformat_minor": 0,
  "metadata": {
    "colab": {
      "provenance": []
    },
    "kernelspec": {
      "name": "python3",
      "display_name": "Python 3"
    },
    "language_info": {
      "name": "python"
    }
  },
  "cells": [
    {
      "cell_type": "code",
      "execution_count": 1,
      "metadata": {
        "id": "wOtzmhFjeriI"
      },
      "outputs": [],
      "source": [
        "import tensorflow as tf\n",
        "from tensorflow.keras.applications import ResNet50\n",
        "from tensorflow.keras.preprocessing import image\n",
        "from tensorflow.keras.applications.resnet50 import preprocess_input\n",
        "from tensorflow.keras.models import Model\n",
        "import numpy as np\n",
        "from sklearn.metrics.pairwise import cosine_similarity"
      ]
    },
    {
      "cell_type": "code",
      "source": [
        "# Load the pre-trained ResNet50 model\n",
        "base_model = ResNet50(weights='imagenet')\n",
        "model = Model(inputs=base_model.input, outputs=base_model.get_layer('avg_pool').output)\n",
        "\n",
        "def preprocess_image(img_path):\n",
        "    \"\"\"Loads and preprocesses an image.\"\"\"\n",
        "    img = image.load_img(img_path, target_size=(224, 224))\n",
        "    img_data = image.img_to_array(img)\n",
        "    img_data = np.expand_dims(img_data, axis=0)\n",
        "    img_data = preprocess_input(img_data)\n",
        "    return img_data\n",
        "\n",
        "def extract_features(img_path):\n",
        "    \"\"\"Extracts features from an image using ResNet50.\"\"\"\n",
        "    img_data = preprocess_image(img_path)\n",
        "    features = model.predict(img_data)\n",
        "    return features\n",
        "\n",
        "def compute_similarity(img_path1, img_path2):\n",
        "    \"\"\"Computes similarity between two images.\"\"\"\n",
        "    features1 = extract_features(img_path1)\n",
        "    features2 = extract_features(img_path2)\n",
        "    similarity = cosine_similarity(features1, features2)\n",
        "    return similarity[0][0]\n",
        "\n",
        "# Example usage\n",
        "img_path1 = '/content/necklace1.jpg'\n",
        "img_path2 = '/content/s-l1600-30-5.jpg'\n",
        "\n",
        "similarity_score = compute_similarity(img_path1, img_path2)\n",
        "print(f\"Similarity score between the images: {similarity_score}\")\n",
        "if similarity_score > 0.8:\n",
        "    print(\"Images are similar.\")\n",
        "else:\n",
        "    print(\"Images are not similar.\")\n",
        "\n"
      ],
      "metadata": {
        "colab": {
          "base_uri": "https://localhost:8080/"
        },
        "id": "lDsGImVFe0P_",
        "outputId": "68e1a03c-ada8-4fa7-9212-b1e342937c5d"
      },
      "execution_count": 18,
      "outputs": [
        {
          "output_type": "stream",
          "name": "stdout",
          "text": [
            "1/1 [==============================] - 1s 1s/step\n",
            "1/1 [==============================] - 0s 218ms/step\n",
            "Similarity score between the images: 0.6612764596939087\n",
            "Images are not similar.\n"
          ]
        }
      ]
    },
    {
      "cell_type": "markdown",
      "source": [
        "**trying to train with the dataset**"
      ],
      "metadata": {
        "id": "E7iPfrAYDSo6"
      }
    },
    {
      "cell_type": "code",
      "source": [
        "from keras.applications.resnet50 import ResNet50, preprocess_input\n",
        "from keras.preprocessing import image\n",
        "from keras.models import Model\n",
        "import numpy as np\n",
        "from sklearn.metrics.pairwise import cosine_similarity\n",
        "import os\n",
        "\n",
        "# Load the pre-trained ResNet50 model\n",
        "base_model = ResNet50(weights='imagenet')\n",
        "model = Model(inputs=base_model.input, outputs=base_model.get_layer('avg_pool').output)\n"
      ],
      "metadata": {
        "id": "jn0-CX9fDZ6H"
      },
      "execution_count": 19,
      "outputs": []
    },
    {
      "cell_type": "code",
      "source": [
        "def preprocess_image(img_path):\n",
        "    \"\"\"Loads and preprocesses an image.\"\"\"\n",
        "    img = image.load_img(img_path, target_size=(224, 224))\n",
        "    img_data = image.img_to_array(img)\n",
        "    img_data = np.expand_dims(img_data, axis=0)\n",
        "    img_data = preprocess_input(img_data)\n",
        "    return img_data\n",
        "\n",
        "def extract_features(img_path):\n",
        "    \"\"\"Extracts features from an image using ResNet50.\"\"\"\n",
        "    img_data = preprocess_image(img_path)\n",
        "    features = model.predict(img_data)\n",
        "    return features\n",
        "\n",
        "def compute_similarity(img_path1, img_paths):\n",
        "    \"\"\"Computes similarity between an image and multiple images.\"\"\"\n",
        "    features1 = extract_features(img_path1)\n",
        "\n",
        "    similarities = []\n",
        "    for img_path2 in img_paths:\n",
        "        features2 = extract_features(img_path2)\n",
        "        similarity = cosine_similarity(features1, features2)\n",
        "        similarities.append(similarity)\n",
        "\n",
        "    return similarities\n"
      ],
      "metadata": {
        "id": "-QPATvkzDi34"
      },
      "execution_count": 20,
      "outputs": []
    },
    {
      "cell_type": "code",
      "source": [
        "# Example usage\n",
        "img_path1 = '/content/necklace1.jpg'\n",
        "img_paths = [\n",
        "    '/content/s-l1600-30-5.jpg',\n",
        "    '/content/necklace2.jpg',\n",
        "    '/content/t.jpg',\n",
        "    '/content/Screenshot 2024-06-15 180558.jpg',\n",
        "    '/content/Screenshot 2024-06-15 180645.jpg',\n",
        "    '/content/Screenshot 2024-06-15 180653.jpg',\n",
        "    '/content/Screenshot 2024-06-15 180701.jpg',\n",
        "    '/content/Screenshot 2024-06-15 180711.jpg',\n",
        "    '/content/Screenshot 2024-06-15 180721.jpg'\n",
        "\n",
        "\n",
        "]\n",
        "\n",
        "similarities = compute_similarity(img_path1, img_paths)\n",
        "\n",
        "threshold = 0.8  # hyperparameter\n",
        "similar_images = []\n",
        "for i, similarity_score in enumerate(similarities):\n",
        "    if similarity_score > threshold:\n",
        "        print(f\"Image {img_paths[i]} is similar with score: {similarity_score}\")\n",
        "        similar_images.append(img_paths[i])\n",
        "\n",
        "if similar_images:\n",
        "    print(\"Similar images found:\", similar_images)\n",
        "else:\n",
        "    print(\"No similar images found.\")\n"
      ],
      "metadata": {
        "colab": {
          "base_uri": "https://localhost:8080/"
        },
        "id": "BN3qX54NDtd0",
        "outputId": "7cfd87f6-4398-4d57-9bbe-32aa3adf00de"
      },
      "execution_count": 31,
      "outputs": [
        {
          "output_type": "stream",
          "name": "stdout",
          "text": [
            "1/1 [==============================] - 0s 224ms/step\n",
            "1/1 [==============================] - 0s 217ms/step\n",
            "1/1 [==============================] - 0s 234ms/step\n",
            "1/1 [==============================] - 0s 200ms/step\n",
            "1/1 [==============================] - 0s 196ms/step\n",
            "1/1 [==============================] - 0s 212ms/step\n",
            "1/1 [==============================] - 0s 194ms/step\n",
            "1/1 [==============================] - 0s 189ms/step\n",
            "1/1 [==============================] - 0s 206ms/step\n",
            "1/1 [==============================] - 0s 209ms/step\n",
            "Image /content/necklace2.jpg is similar with score: [[0.9002416]]\n",
            "Similar images found: ['/content/necklace2.jpg']\n"
          ]
        }
      ]
    }
  ]
}