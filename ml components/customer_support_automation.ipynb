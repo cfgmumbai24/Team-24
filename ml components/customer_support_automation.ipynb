{
  "nbformat": 4,
  "nbformat_minor": 0,
  "metadata": {
    "colab": {
      "provenance": []
    },
    "kernelspec": {
      "name": "python3",
      "display_name": "Python 3"
    },
    "language_info": {
      "name": "python"
    }
  },
  "cells": [
    {
      "cell_type": "code",
      "execution_count": 16,
      "metadata": {
        "id": "sL72Du4diYKk"
      },
      "outputs": [],
      "source": [
        "import pandas as pd\n",
        "\n",
        "# Sample data\n",
        "data = {\n",
        "    'ticket_id': [1, 2, 3, 4, 5, 6, 7],\n",
        "    'text': [\n",
        "        'I need to know the price of the custom necklace.',\n",
        "        'My order number 1234 has not been delivered.',\n",
        "        'Can I get a discount on bulk orders?',\n",
        "        'The bracelet I received is broken.',\n",
        "        'I want to return my order and get a refund.',\n",
        "        'How much does it cost to ship to Canada?',\n",
        "        'I am interested in a custom-designed ring.'\n",
        "    ],\n",
        "    'category': ['pricing', 'delivery_issue', 'discount', 'product_issue', 'refund', 'shipping', 'custom_order'],\n",
        "    'amount_involved': [50, 10000, 500, 75, 150000, 20, 300]  # Example monetary values\n",
        "}\n",
        "\n",
        "# Create DataFrame\n",
        "df = pd.DataFrame(data)\n"
      ]
    },
    {
      "cell_type": "code",
      "source": [
        "import re\n",
        "import string\n",
        "\n",
        "# Preprocessing function\n",
        "def preprocess_text(text):\n",
        "    text = text.lower()  # Lowercase text\n",
        "    text = re.sub(r'\\d+', '', text)  # Remove numbers\n",
        "    text = text.translate(str.maketrans('', '', string.punctuation))  # Remove punctuation\n",
        "    text = text.strip()  # Remove whitespace\n",
        "    return text\n",
        "\n",
        "# Apply preprocessing\n",
        "df['clean_text'] = df['text'].apply(preprocess_text)\n"
      ],
      "metadata": {
        "id": "XGws6Ibmifcp"
      },
      "execution_count": 17,
      "outputs": []
    },
    {
      "cell_type": "code",
      "source": [
        "from sklearn.model_selection import train_test_split\n",
        "from sklearn.feature_extraction.text import TfidfVectorizer\n",
        "from sklearn.linear_model import LogisticRegression\n",
        "from sklearn.pipeline import Pipeline\n",
        "from sklearn.metrics import classification_report\n",
        "\n",
        "# Split dataset into training and testing sets\n",
        "X_train, X_test, y_train, y_test = train_test_split(df['clean_text'], df['category'], test_size=0.2, random_state=42)\n",
        "\n",
        "# Define a pipeline combining a TF-IDF vectorizer with a logistic regression classifier\n",
        "pipeline = Pipeline([\n",
        "    ('tfidf', TfidfVectorizer()),\n",
        "    ('clf', LogisticRegression())\n",
        "])\n",
        "\n",
        "# Train the model\n",
        "pipeline.fit(X_train, y_train)\n",
        "\n",
        "# Predict on test data\n",
        "y_pred = pipeline.predict(X_test)\n",
        "\n",
        "\n"
      ],
      "metadata": {
        "id": "IJ0rqNWDi1Cx"
      },
      "execution_count": 19,
      "outputs": []
    },
    {
      "cell_type": "code",
      "source": [
        "def assign_priority(amount):\n",
        "    if amount >=10000:\n",
        "        return 'high'\n",
        "\n",
        "    else:\n",
        "        return 'low'\n"
      ],
      "metadata": {
        "id": "M5XnekP9i8V3"
      },
      "execution_count": 24,
      "outputs": []
    },
    {
      "cell_type": "code",
      "source": [
        "def route_ticket(ticket):\n",
        "    text = ticket['clean_text']\n",
        "    category = pipeline.predict([text])[0]\n",
        "    amount = ticket['amount_involved']\n",
        "    priority = assign_priority(amount)\n",
        "\n",
        "    if priority == 'high':\n",
        "        return 'main_admin'\n",
        "    else:\n",
        "        return 'sub_admin'\n",
        "\n",
        "# Route tickets\n",
        "df['assigned_to'] = df.apply(route_ticket, axis=1)\n",
        "\n",
        "# Show routing results\n",
        "print(df[['ticket_id', 'text', 'category', 'amount_involved', 'assigned_to']])\n"
      ],
      "metadata": {
        "colab": {
          "base_uri": "https://localhost:8080/"
        },
        "id": "N-3O481SjSnQ",
        "outputId": "73c41218-7988-4b40-c806-05181df19d2e"
      },
      "execution_count": 25,
      "outputs": [
        {
          "output_type": "stream",
          "name": "stdout",
          "text": [
            "   ticket_id                                              text  \\\n",
            "0          1  I need to know the price of the custom necklace.   \n",
            "1          2      My order number 1234 has not been delivered.   \n",
            "2          3              Can I get a discount on bulk orders?   \n",
            "3          4                The bracelet I received is broken.   \n",
            "4          5       I want to return my order and get a refund.   \n",
            "5          6          How much does it cost to ship to Canada?   \n",
            "6          7        I am interested in a custom-designed ring.   \n",
            "\n",
            "         category  amount_involved assigned_to  \n",
            "0         pricing               50   sub_admin  \n",
            "1  delivery_issue            10000  main_admin  \n",
            "2        discount              500   sub_admin  \n",
            "3   product_issue               75   sub_admin  \n",
            "4          refund           150000  main_admin  \n",
            "5        shipping               20   sub_admin  \n",
            "6    custom_order              300   sub_admin  \n"
          ]
        }
      ]
    }
  ]
}