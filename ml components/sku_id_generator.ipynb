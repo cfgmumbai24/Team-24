{
  "nbformat": 4,
  "nbformat_minor": 0,
  "metadata": {
    "colab": {
      "provenance": []
    },
    "kernelspec": {
      "name": "python3",
      "display_name": "Python 3"
    },
    "language_info": {
      "name": "python"
    }
  },
  "cells": [
    {
      "cell_type": "code",
      "execution_count": 2,
      "metadata": {
        "id": "YbqA5kErgJt6"
      },
      "outputs": [],
      "source": [
        "import hashlib\n",
        "\n",
        "def generate_sku_id(product_type, material, color, shape, unique_design):\n",
        "    \"\"\"\n",
        "    Generates a unique SKU ID based on the characteristics of the ornament.\n",
        "\n",
        "    Args:\n",
        "    - product_type (str): Type of the ornament (e.g., necklace, bracelet).\n",
        "    - material (str): Material used (e.g., gold, silver).\n",
        "    - color (str): Color of the ornament.\n",
        "    - shape (str): Shape of the ornament.\n",
        "    - unique_design (str): Any unique design feature or pattern.\n",
        "\n",
        "    Returns:\n",
        "    - str: Generated SKU ID.\n",
        "    \"\"\"\n",
        "    combined_attributes = f\"{product_type}-{material}-{color}-{shape}-{unique_design}\"\n",
        "\n",
        "    sku_hash = hashlib.md5(combined_attributes.encode()).hexdigest()\n",
        "\n",
        "    sku_id = sku_hash[:8].upper()\n",
        "\n",
        "    return sku_id\n"
      ]
    },
    {
      "cell_type": "code",
      "source": [
        "# Example\n",
        "product_type = \"necklace\"\n",
        "material = \"gold\"\n",
        "color = \"red\"\n",
        "shape = \"round\"\n",
        "unique_design = \"floral_pattern\"\n",
        "\n",
        "sku_id = generate_sku_id(product_type, material, color, shape, unique_design)\n",
        "print(f\"Generated SKU ID: {sku_id}\")"
      ],
      "metadata": {
        "id": "qgdBWlw1gyVz",
        "outputId": "6e53d146-0568-4d1e-c97f-088435d56c08",
        "colab": {
          "base_uri": "https://localhost:8080/"
        }
      },
      "execution_count": 3,
      "outputs": [
        {
          "output_type": "stream",
          "name": "stdout",
          "text": [
            "Generated SKU ID: A8AA8794\n"
          ]
        }
      ]
    }
  ]
}