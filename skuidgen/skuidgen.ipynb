{
 "cells": [
  {
   "cell_type": "code",
   "execution_count": 5,
   "metadata": {},
   "outputs": [
    {
     "name": "stdout",
     "output_type": "stream",
     "text": [
      "Generated SKU ID: A8AA8794\n"
     ]
    }
   ],
   "source": [
    "import hashlib\n",
    "\n",
    "def generate_sku_id(product_type, material, color, shape, unique_design):\n",
    "    \"\"\"\n",
    "    Generates a unique SKU ID based on the characteristics of the ornament.\n",
    "    \n",
    "    Args:\n",
    "    - product_type (str): Type of the ornament (e.g., necklace, bracelet).\n",
    "    - material (str): Material used (e.g., gold, silver).\n",
    "    - color (str): Color of the ornament.\n",
    "    - shape (str): Shape of the ornament.\n",
    "    - unique_design (str): Any unique design feature or pattern.\n",
    "    \n",
    "    Returns:\n",
    "    - str: Generated SKU ID.\n",
    "    \"\"\"\n",
    "    combined_attributes = f\"{product_type}-{material}-{color}-{shape}-{unique_design}\"\n",
    "    \n",
    "    sku_hash = hashlib.md5(combined_attributes.encode()).hexdigest()\n",
    "    \n",
    "    sku_id = sku_hash[:8].upper()\n",
    "    \n",
    "    return sku_id\n",
    "\n",
    "# Example \n",
    "product_type = \"necklace\"\n",
    "material = \"gold\"\n",
    "color = \"red\"\n",
    "shape = \"round\"\n",
    "unique_design = \"floral_pattern\"\n",
    "\n",
    "sku_id = generate_sku_id(product_type, material, color, shape, unique_design)\n",
    "print(f\"Generated SKU ID: {sku_id}\")\n"
   ]
  }
 ],
 "metadata": {
  "kernelspec": {
   "display_name": "Python 3",
   "language": "python",
   "name": "python3"
  },
  "language_info": {
   "codemirror_mode": {
    "name": "ipython",
    "version": 3
   },
   "file_extension": ".py",
   "mimetype": "text/x-python",
   "name": "python",
   "nbconvert_exporter": "python",
   "pygments_lexer": "ipython3",
   "version": "3.12.1"
  }
 },
 "nbformat": 4,
 "nbformat_minor": 2
}
